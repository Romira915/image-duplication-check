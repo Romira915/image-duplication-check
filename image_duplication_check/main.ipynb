{
 "cells": [
  {
   "cell_type": "code",
   "execution_count": 10,
   "metadata": {},
   "outputs": [],
   "source": [
    "import imgsim\n",
    "import cv2\n",
    "import numpy as np\n",
    "import os\n",
    "from itertools import combinations\n",
    "from image_duplication_check import image_distance\n",
    "from concurrent.futures import ProcessPoolExecutor, ThreadPoolExecutor\n",
    "from tqdm import tqdm\n",
    "import copy\n",
    "from image_duplication_check import load_and_vectorize_image\n",
    "from IPython.display import Image, display, HTML\n"
   ]
  },
  {
   "cell_type": "code",
   "execution_count": 11,
   "metadata": {},
   "outputs": [],
   "source": [
    "def is_valid_image(file_path):\n",
    "    try:\n",
    "        with open(file_path, 'rb') as f:\n",
    "            header = f.read(10)\n",
    "            if header.startswith(b'\\xff\\xd8'):\n",
    "                # JPEG header\n",
    "                return True\n",
    "            elif header.startswith(b'\\x89PNG\\r\\n\\x1a\\n'):\n",
    "                # PNG header\n",
    "                return True\n",
    "            elif header[:6] in (b'GIF87a', b'GIF89a'):\n",
    "                # GIF header\n",
    "                return True\n",
    "            else:\n",
    "                return False\n",
    "    except Exception as e:\n",
    "        print(f\"Error reading file {file_path}: {e}\")\n",
    "        return False"
   ]
  },
  {
   "cell_type": "code",
   "execution_count": null,
   "metadata": {},
   "outputs": [],
   "source": [
    "# ディレクトリを標準入力から受け取る\n",
    "dir_path = input(\"Directory: \")\n",
    "# if windows path, convert to unix path\n",
    "if \"\\\\\" in dir_path:\n",
    "    dir_path = dir_path.replace(\"\\\\\", \"/\")\n",
    "    # X:/... -> /mnt/x/...\n",
    "    dir_path = \"/mnt/\" + dir_path[0].lower() + dir_path[2:]\n",
    "dir_path"
   ]
  },
  {
   "cell_type": "code",
   "execution_count": 13,
   "metadata": {},
   "outputs": [],
   "source": [
    "file_path_list = [os.path.join(dir_path, f) for f in os.listdir(dir_path) if os.path.isfile(os.path.join(dir_path, f))]\n"
   ]
  },
  {
   "cell_type": "code",
   "execution_count": 14,
   "metadata": {},
   "outputs": [],
   "source": [
    "# 画像として読み込めるファイルのみを抽出\n",
    "image_path_list = []\n",
    "for file_path in file_path_list:\n",
    "    if is_valid_image(file_path):\n",
    "        image_path_list.append(file_path)\n",
    "    else:\n",
    "        print(f\"Invalid file: {file_path}\")"
   ]
  },
  {
   "cell_type": "code",
   "execution_count": null,
   "metadata": {},
   "outputs": [],
   "source": [
    "vtr = imgsim.Vectorizer()\n",
    "\n",
    "with tqdm(total=len(image_path_list)) as progress:\n",
    "    with ThreadPoolExecutor(max_workers=os.cpu_count()) as executor: \n",
    "        futures = []  \n",
    "        for file_path in image_path_list: \n",
    "            future = executor.submit(load_and_vectorize_image, file_path, vtr)\n",
    "            future.add_done_callback(lambda p: progress.update())\n",
    "            futures.append((file_path, future))\n",
    "        images = [(f[0], f[1].result()) for f in futures]\n"
   ]
  },
  {
   "cell_type": "code",
   "execution_count": null,
   "metadata": {},
   "outputs": [],
   "source": [
    "vtr = imgsim.Vectorizer()\n",
    "image_combinations = combinations(images, 2)\n",
    "\n",
    "with tqdm(total=len(list(copy.copy(image_combinations)))) as progress:\n",
    "    with ProcessPoolExecutor(max_workers=os.cpu_count()) as executor: \n",
    "        futures = []  \n",
    "        for (file_path_a, image_a), (file_path_b, image_b) in image_combinations: \n",
    "            future = executor.submit(image_distance, image_a, image_b)\n",
    "            future.add_done_callback(lambda p: progress.update())\n",
    "            futures.append(((file_path_a, file_path_b), future))\n",
    "        result = [{'file_path': f[0], 'dist': f[1].result()} for f in futures]\n"
   ]
  },
  {
   "cell_type": "code",
   "execution_count": null,
   "metadata": {},
   "outputs": [],
   "source": [
    "import matplotlib.pyplot as plt\n",
    "\n",
    "for r in result:\n",
    "    if (r['dist'] < 0.1):\n",
    "        file_path_a = r['file_path'][0]\n",
    "        file_path_b = r['file_path'][1]\n",
    "        image_a = cv2.imread(file_path_a)\n",
    "        image_a = cv2.cvtColor(image_a, cv2.COLOR_BGR2RGB)\n",
    "        image_b = cv2.imread(file_path_b)\n",
    "        image_b = cv2.cvtColor(image_b, cv2.COLOR_BGR2RGB)\n",
    "        \n",
    "        plt.figure(figsize=(10, 4))  # 2つの画像を横に並べるための図のサイズを設定\n",
    "        # 1行2列のサブプロットを作成し、1番目のサブプロットにimage1を配置\n",
    "        plt.subplot(1, 2, 1)\n",
    "        plt.imshow(image_a)\n",
    "        plt.title(os.path.basename(file_path_a))\n",
    "\n",
    "        # 1行2列のサブプロットを作成し、2番目のサブプロットにimage2を配置\n",
    "        plt.subplot(1, 2, 2)\n",
    "        plt.imshow(image_b)\n",
    "        plt.title(os.path.basename(file_path_b))\n",
    "\n",
    "        plt.show()  # 画像を表示\n",
    "        "
   ]
  },
  {
   "cell_type": "code",
   "execution_count": null,
   "metadata": {},
   "outputs": [],
   "source": [
    "print(\"Delete duplicate images? (y/n)\")\n",
    "if (input() == \"y\"):\n",
    "    for r in result:\n",
    "        if (r['dist'] < 0.1):\n",
    "            file_path_b = r['file_path'][1]\n",
    "            try:\n",
    "                os.remove(file_path_b)\n",
    "                print(\"Delete: \" + file_path_b)\n",
    "            except FileNotFoundError:\n",
    "                print(\"File not found: \" + file_path_b)\n"
   ]
  }
 ],
 "metadata": {
  "kernelspec": {
   "display_name": ".venv",
   "language": "python",
   "name": "python3"
  },
  "language_info": {
   "codemirror_mode": {
    "name": "ipython",
    "version": 3
   },
   "file_extension": ".py",
   "mimetype": "text/x-python",
   "name": "python",
   "nbconvert_exporter": "python",
   "pygments_lexer": "ipython3",
   "version": "3.11.6"
  }
 },
 "nbformat": 4,
 "nbformat_minor": 2
}
